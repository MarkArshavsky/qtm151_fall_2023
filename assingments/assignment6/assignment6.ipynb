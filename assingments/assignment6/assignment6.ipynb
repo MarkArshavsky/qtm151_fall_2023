{
 "cells": [
  {
   "attachments": {},
   "cell_type": "markdown",
   "metadata": {},
   "source": [
    "# Assignment 6"
   ]
  },
  {
   "attachments": {},
   "cell_type": "markdown",
   "metadata": {},
   "source": [
    "## Try to submit as an HTML file"
   ]
  },
  {
   "attachments": {},
   "cell_type": "markdown",
   "metadata": {},
   "source": [
    "<font size = \"5\">\n",
    "Print your Emory ID below"
   ]
  },
  {
   "cell_type": "code",
   "execution_count": 1,
   "metadata": {},
   "outputs": [
    {
     "name": "stdout",
     "output_type": "stream",
     "text": [
      "2556041\n"
     ]
    }
   ],
   "source": [
    "print(2556041) "
   ]
  },
  {
   "attachments": {},
   "cell_type": "markdown",
   "metadata": {},
   "source": [
    "<font size = \"5\">\n",
    "\n",
    "Import the \"pandas\" and \"matplotlib.pyplot\" library"
   ]
  },
  {
   "cell_type": "code",
   "execution_count": 2,
   "metadata": {},
   "outputs": [],
   "source": [
    "# Write your answer here:\n",
    "\n",
    "import pandas as pd\n",
    "import matplotlib.pyplot as plt"
   ]
  },
  {
   "attachments": {},
   "cell_type": "markdown",
   "metadata": {},
   "source": [
    "<font size = \"5\">\n",
    "\n",
    "(a) Compute function for each individual (map)\n",
    "\n",
    "<font size = \"3\">\n",
    "\n",
    "- Import the datset \"data/bmi.csv\"\n",
    "    - **Note that the column `Height` is in $cm$, and `Weight` is in $kg$**\n",
    "- Write a lambda function for $ BMI = \\frac{weight (kg)}{height (m)^2} $\n",
    "- Use ```list(map(...))``` to calculate $BMI$ for each row of the dataset\n",
    "- Round the outcome into 2 decimal points\n",
    "- Store the calculation in a new column in the dataframe called `BMI`\n",
    "- Display the dataframe\n"
   ]
  },
  {
   "cell_type": "code",
   "execution_count": 39,
   "metadata": {},
   "outputs": [
    {
     "data": {
      "text/html": [
       "<div>\n",
       "<style scoped>\n",
       "    .dataframe tbody tr th:only-of-type {\n",
       "        vertical-align: middle;\n",
       "    }\n",
       "\n",
       "    .dataframe tbody tr th {\n",
       "        vertical-align: top;\n",
       "    }\n",
       "\n",
       "    .dataframe thead th {\n",
       "        text-align: right;\n",
       "    }\n",
       "</style>\n",
       "<table border=\"1\" class=\"dataframe\">\n",
       "  <thead>\n",
       "    <tr style=\"text-align: right;\">\n",
       "      <th></th>\n",
       "      <th>Gender</th>\n",
       "      <th>Height</th>\n",
       "      <th>Weight</th>\n",
       "      <th>Index</th>\n",
       "      <th>BMI</th>\n",
       "    </tr>\n",
       "  </thead>\n",
       "  <tbody>\n",
       "    <tr>\n",
       "      <th>0</th>\n",
       "      <td>Male</td>\n",
       "      <td>174</td>\n",
       "      <td>96</td>\n",
       "      <td>4</td>\n",
       "      <td>31.71</td>\n",
       "    </tr>\n",
       "    <tr>\n",
       "      <th>1</th>\n",
       "      <td>Male</td>\n",
       "      <td>189</td>\n",
       "      <td>87</td>\n",
       "      <td>2</td>\n",
       "      <td>24.36</td>\n",
       "    </tr>\n",
       "    <tr>\n",
       "      <th>2</th>\n",
       "      <td>Female</td>\n",
       "      <td>185</td>\n",
       "      <td>110</td>\n",
       "      <td>4</td>\n",
       "      <td>32.14</td>\n",
       "    </tr>\n",
       "    <tr>\n",
       "      <th>3</th>\n",
       "      <td>Female</td>\n",
       "      <td>195</td>\n",
       "      <td>104</td>\n",
       "      <td>3</td>\n",
       "      <td>27.35</td>\n",
       "    </tr>\n",
       "    <tr>\n",
       "      <th>4</th>\n",
       "      <td>Male</td>\n",
       "      <td>149</td>\n",
       "      <td>61</td>\n",
       "      <td>3</td>\n",
       "      <td>27.48</td>\n",
       "    </tr>\n",
       "    <tr>\n",
       "      <th>...</th>\n",
       "      <td>...</td>\n",
       "      <td>...</td>\n",
       "      <td>...</td>\n",
       "      <td>...</td>\n",
       "      <td>...</td>\n",
       "    </tr>\n",
       "    <tr>\n",
       "      <th>495</th>\n",
       "      <td>Female</td>\n",
       "      <td>150</td>\n",
       "      <td>153</td>\n",
       "      <td>5</td>\n",
       "      <td>68.00</td>\n",
       "    </tr>\n",
       "    <tr>\n",
       "      <th>496</th>\n",
       "      <td>Female</td>\n",
       "      <td>184</td>\n",
       "      <td>121</td>\n",
       "      <td>4</td>\n",
       "      <td>35.74</td>\n",
       "    </tr>\n",
       "    <tr>\n",
       "      <th>497</th>\n",
       "      <td>Female</td>\n",
       "      <td>141</td>\n",
       "      <td>136</td>\n",
       "      <td>5</td>\n",
       "      <td>68.41</td>\n",
       "    </tr>\n",
       "    <tr>\n",
       "      <th>498</th>\n",
       "      <td>Male</td>\n",
       "      <td>150</td>\n",
       "      <td>95</td>\n",
       "      <td>5</td>\n",
       "      <td>42.22</td>\n",
       "    </tr>\n",
       "    <tr>\n",
       "      <th>499</th>\n",
       "      <td>Male</td>\n",
       "      <td>173</td>\n",
       "      <td>131</td>\n",
       "      <td>5</td>\n",
       "      <td>43.77</td>\n",
       "    </tr>\n",
       "  </tbody>\n",
       "</table>\n",
       "<p>500 rows × 5 columns</p>\n",
       "</div>"
      ],
      "text/plain": [
       "     Gender  Height  Weight  Index    BMI\n",
       "0      Male     174      96      4  31.71\n",
       "1      Male     189      87      2  24.36\n",
       "2    Female     185     110      4  32.14\n",
       "3    Female     195     104      3  27.35\n",
       "4      Male     149      61      3  27.48\n",
       "..      ...     ...     ...    ...    ...\n",
       "495  Female     150     153      5  68.00\n",
       "496  Female     184     121      4  35.74\n",
       "497  Female     141     136      5  68.41\n",
       "498    Male     150      95      5  42.22\n",
       "499    Male     173     131      5  43.77\n",
       "\n",
       "[500 rows x 5 columns]"
      ]
     },
     "metadata": {},
     "output_type": "display_data"
    }
   ],
   "source": [
    "# Write your own code here\n",
    "\n",
    "data = pd.read_csv(\"data/bmi.csv\")\n",
    "\n",
    "bmi_calculator = lambda row: round(row[\"Weight\"]/((row[\"Height\"]/100)**2),2)\n",
    "\n",
    "data['BMI'] = list(map(bmi_calculator,data[[\"Weight\",\"Height\"]].to_dict('records')))\n",
    "\n",
    "display(data)\n"
   ]
  },
  {
   "attachments": {},
   "cell_type": "markdown",
   "metadata": {},
   "source": [
    "<font size = \"5\">\n",
    "For questions (b)-(d), read \"data/wdi_2020.csv\" <br>\n",
    "\n",
    "- This is a dataset containing the proportion  <br>\n",
    "of urban population by country in 2020"
   ]
  },
  {
   "attachments": {},
   "cell_type": "markdown",
   "metadata": {},
   "source": [
    "<font size = \"5\">\n",
    "\n",
    "(b) Convert to upper case\n",
    "\n",
    "<font size = \"3\">\n",
    "\n",
    "- Create the following function to convert a string to upper case\n",
    "\n",
    "$\\quad$ ``` fn_upper = lambda x: x.upper() ```\n",
    "\n",
    "- Create a new column, \"countryname_upper\"  <br>\n",
    "that converts \"countryname\" to upper case.\n",
    "\n",
    "- Print the original `countryname` and the newly created column, like: <br>\n",
    "\"['Afghanistan', 'Africa Eastern and Southern', 'Africa Western and Central', 'Albania', 'Algeria', ......] \""
   ]
  },
  {
   "cell_type": "code",
   "execution_count": 40,
   "metadata": {},
   "outputs": [
    {
     "name": "stdout",
     "output_type": "stream",
     "text": [
      "['Afghanistan', 'Africa Eastern and Southern', 'Africa Western and Central', 'Albania', 'Algeria', 'American Samoa', 'Andorra', 'Angola', 'Antigua and Barbuda', 'Arab World', 'Argentina', 'Armenia', 'Aruba', 'Australia', 'Austria', 'Azerbaijan', 'Bahamas, The', 'Bahrain', 'Bangladesh', 'Barbados', 'Belarus', 'Belgium', 'Belize', 'Benin', 'Bermuda', 'Bhutan', 'Bolivia', 'Bosnia and Herzegovina', 'Botswana', 'Brazil', 'British Virgin Islands', 'Brunei Darussalam', 'Bulgaria', 'Burkina Faso', 'Burundi', 'Cabo Verde', 'Cambodia', 'Cameroon', 'Canada', 'Caribbean small states', 'Cayman Islands', 'Central African Republic', 'Central Europe and the Baltics', 'Chad', 'Channel Islands', 'Chile', 'China', 'Colombia', 'Comoros', 'Congo, Dem. Rep.', 'Congo, Rep.', 'Costa Rica', \"Cote d'Ivoire\", 'Croatia', 'Cuba', 'Curacao', 'Cyprus', 'Czechia', 'Denmark', 'Djibouti', 'Dominica', 'Dominican Republic', 'Early-demographic dividend', 'East Asia & Pacific', 'East Asia & Pacific (excluding high income)', 'East Asia & Pacific (IDA & IBRD countries)', 'Ecuador', 'Egypt, Arab Rep.', 'El Salvador', 'Equatorial Guinea', 'Eritrea', 'Estonia', 'Eswatini', 'Ethiopia', 'Euro area', 'Europe & Central Asia', 'Europe & Central Asia (excluding high income)', 'Europe & Central Asia (IDA & IBRD countries)', 'European Union', 'Faroe Islands', 'Fiji', 'Finland', 'Fragile and conflict affected situations', 'France', 'French Polynesia', 'Gabon', 'Gambia, The', 'Georgia', 'Germany', 'Ghana', 'Gibraltar', 'Greece', 'Greenland', 'Grenada', 'Guam', 'Guatemala', 'Guinea', 'Guinea-Bissau', 'Guyana', 'Haiti', 'Heavily indebted poor countries (HIPC)', 'High income', 'Honduras', 'Hong Kong SAR, China', 'Hungary', 'IBRD only', 'Iceland', 'IDA & IBRD total', 'IDA blend', 'IDA only', 'IDA total', 'India', 'Indonesia', 'Iran, Islamic Rep.', 'Iraq', 'Ireland', 'Isle of Man', 'Israel', 'Italy', 'Jamaica', 'Japan', 'Jordan', 'Kazakhstan', 'Kenya', 'Kiribati', \"Korea, Dem. People's Rep.\", 'Korea, Rep.', 'Kosovo', 'Kuwait', 'Kyrgyz Republic', 'Lao PDR', 'Late-demographic dividend', 'Latin America & Caribbean', 'Latin America & Caribbean (excluding high income)', 'Latin America & the Caribbean (IDA & IBRD countries)', 'Latvia', 'Least developed countries: UN classification', 'Lebanon', 'Lesotho', 'Liberia', 'Libya', 'Liechtenstein', 'Lithuania', 'Low & middle income', 'Low income', 'Lower middle income', 'Luxembourg', 'Macao SAR, China', 'Madagascar', 'Malawi', 'Malaysia', 'Maldives', 'Mali', 'Malta', 'Marshall Islands', 'Mauritania', 'Mauritius', 'Mexico', 'Micronesia, Fed. Sts.', 'Middle East & North Africa', 'Middle East & North Africa (excluding high income)', 'Middle East & North Africa (IDA & IBRD countries)', 'Middle income', 'Moldova', 'Monaco', 'Mongolia', 'Montenegro', 'Morocco', 'Mozambique', 'Myanmar', 'Namibia', 'Nauru', 'Nepal', 'Netherlands', 'New Caledonia', 'New Zealand', 'Nicaragua', 'Niger', 'Nigeria', 'North America', 'North Macedonia', 'Northern Mariana Islands', 'Norway', 'Not classified', 'OECD members', 'Oman', 'Other small states', 'Pacific island small states', 'Pakistan', 'Palau', 'Panama', 'Papua New Guinea', 'Paraguay', 'Peru', 'Philippines', 'Poland', 'Portugal', 'Post-demographic dividend', 'Pre-demographic dividend', 'Puerto Rico', 'Qatar', 'Romania', 'Russian Federation', 'Rwanda', 'Samoa', 'San Marino', 'Sao Tome and Principe', 'Saudi Arabia', 'Senegal', 'Serbia', 'Seychelles', 'Sierra Leone', 'Singapore', 'Sint Maarten (Dutch part)', 'Slovak Republic', 'Slovenia', 'Small states', 'Solomon Islands', 'Somalia', 'South Africa', 'South Asia', 'South Asia (IDA & IBRD)', 'South Sudan', 'Spain', 'Sri Lanka', 'St. Kitts and Nevis', 'St. Lucia', 'St. Martin (French part)', 'St. Vincent and the Grenadines', 'Sub-Saharan Africa', 'Sub-Saharan Africa (excluding high income)', 'Sub-Saharan Africa (IDA & IBRD countries)', 'Sudan', 'Suriname', 'Sweden', 'Switzerland', 'Syrian Arab Republic', 'Tajikistan', 'Tanzania', 'Thailand', 'Timor-Leste', 'Togo', 'Tonga', 'Trinidad and Tobago', 'Tunisia', 'Turkiye', 'Turkmenistan', 'Turks and Caicos Islands', 'Tuvalu', 'Uganda', 'Ukraine', 'United Arab Emirates', 'United Kingdom', 'United States', 'Upper middle income', 'Uruguay', 'Uzbekistan', 'Vanuatu', 'Venezuela, RB', 'Vietnam', 'Virgin Islands (U.S.)', 'West Bank and Gaza', 'World', 'Yemen, Rep.', 'Zambia', 'Zimbabwe']\n",
      "['AFGHANISTAN', 'AFRICA EASTERN AND SOUTHERN', 'AFRICA WESTERN AND CENTRAL', 'ALBANIA', 'ALGERIA', 'AMERICAN SAMOA', 'ANDORRA', 'ANGOLA', 'ANTIGUA AND BARBUDA', 'ARAB WORLD', 'ARGENTINA', 'ARMENIA', 'ARUBA', 'AUSTRALIA', 'AUSTRIA', 'AZERBAIJAN', 'BAHAMAS, THE', 'BAHRAIN', 'BANGLADESH', 'BARBADOS', 'BELARUS', 'BELGIUM', 'BELIZE', 'BENIN', 'BERMUDA', 'BHUTAN', 'BOLIVIA', 'BOSNIA AND HERZEGOVINA', 'BOTSWANA', 'BRAZIL', 'BRITISH VIRGIN ISLANDS', 'BRUNEI DARUSSALAM', 'BULGARIA', 'BURKINA FASO', 'BURUNDI', 'CABO VERDE', 'CAMBODIA', 'CAMEROON', 'CANADA', 'CARIBBEAN SMALL STATES', 'CAYMAN ISLANDS', 'CENTRAL AFRICAN REPUBLIC', 'CENTRAL EUROPE AND THE BALTICS', 'CHAD', 'CHANNEL ISLANDS', 'CHILE', 'CHINA', 'COLOMBIA', 'COMOROS', 'CONGO, DEM. REP.', 'CONGO, REP.', 'COSTA RICA', \"COTE D'IVOIRE\", 'CROATIA', 'CUBA', 'CURACAO', 'CYPRUS', 'CZECHIA', 'DENMARK', 'DJIBOUTI', 'DOMINICA', 'DOMINICAN REPUBLIC', 'EARLY-DEMOGRAPHIC DIVIDEND', 'EAST ASIA & PACIFIC', 'EAST ASIA & PACIFIC (EXCLUDING HIGH INCOME)', 'EAST ASIA & PACIFIC (IDA & IBRD COUNTRIES)', 'ECUADOR', 'EGYPT, ARAB REP.', 'EL SALVADOR', 'EQUATORIAL GUINEA', 'ERITREA', 'ESTONIA', 'ESWATINI', 'ETHIOPIA', 'EURO AREA', 'EUROPE & CENTRAL ASIA', 'EUROPE & CENTRAL ASIA (EXCLUDING HIGH INCOME)', 'EUROPE & CENTRAL ASIA (IDA & IBRD COUNTRIES)', 'EUROPEAN UNION', 'FAROE ISLANDS', 'FIJI', 'FINLAND', 'FRAGILE AND CONFLICT AFFECTED SITUATIONS', 'FRANCE', 'FRENCH POLYNESIA', 'GABON', 'GAMBIA, THE', 'GEORGIA', 'GERMANY', 'GHANA', 'GIBRALTAR', 'GREECE', 'GREENLAND', 'GRENADA', 'GUAM', 'GUATEMALA', 'GUINEA', 'GUINEA-BISSAU', 'GUYANA', 'HAITI', 'HEAVILY INDEBTED POOR COUNTRIES (HIPC)', 'HIGH INCOME', 'HONDURAS', 'HONG KONG SAR, CHINA', 'HUNGARY', 'IBRD ONLY', 'ICELAND', 'IDA & IBRD TOTAL', 'IDA BLEND', 'IDA ONLY', 'IDA TOTAL', 'INDIA', 'INDONESIA', 'IRAN, ISLAMIC REP.', 'IRAQ', 'IRELAND', 'ISLE OF MAN', 'ISRAEL', 'ITALY', 'JAMAICA', 'JAPAN', 'JORDAN', 'KAZAKHSTAN', 'KENYA', 'KIRIBATI', \"KOREA, DEM. PEOPLE'S REP.\", 'KOREA, REP.', 'KOSOVO', 'KUWAIT', 'KYRGYZ REPUBLIC', 'LAO PDR', 'LATE-DEMOGRAPHIC DIVIDEND', 'LATIN AMERICA & CARIBBEAN', 'LATIN AMERICA & CARIBBEAN (EXCLUDING HIGH INCOME)', 'LATIN AMERICA & THE CARIBBEAN (IDA & IBRD COUNTRIES)', 'LATVIA', 'LEAST DEVELOPED COUNTRIES: UN CLASSIFICATION', 'LEBANON', 'LESOTHO', 'LIBERIA', 'LIBYA', 'LIECHTENSTEIN', 'LITHUANIA', 'LOW & MIDDLE INCOME', 'LOW INCOME', 'LOWER MIDDLE INCOME', 'LUXEMBOURG', 'MACAO SAR, CHINA', 'MADAGASCAR', 'MALAWI', 'MALAYSIA', 'MALDIVES', 'MALI', 'MALTA', 'MARSHALL ISLANDS', 'MAURITANIA', 'MAURITIUS', 'MEXICO', 'MICRONESIA, FED. STS.', 'MIDDLE EAST & NORTH AFRICA', 'MIDDLE EAST & NORTH AFRICA (EXCLUDING HIGH INCOME)', 'MIDDLE EAST & NORTH AFRICA (IDA & IBRD COUNTRIES)', 'MIDDLE INCOME', 'MOLDOVA', 'MONACO', 'MONGOLIA', 'MONTENEGRO', 'MOROCCO', 'MOZAMBIQUE', 'MYANMAR', 'NAMIBIA', 'NAURU', 'NEPAL', 'NETHERLANDS', 'NEW CALEDONIA', 'NEW ZEALAND', 'NICARAGUA', 'NIGER', 'NIGERIA', 'NORTH AMERICA', 'NORTH MACEDONIA', 'NORTHERN MARIANA ISLANDS', 'NORWAY', 'NOT CLASSIFIED', 'OECD MEMBERS', 'OMAN', 'OTHER SMALL STATES', 'PACIFIC ISLAND SMALL STATES', 'PAKISTAN', 'PALAU', 'PANAMA', 'PAPUA NEW GUINEA', 'PARAGUAY', 'PERU', 'PHILIPPINES', 'POLAND', 'PORTUGAL', 'POST-DEMOGRAPHIC DIVIDEND', 'PRE-DEMOGRAPHIC DIVIDEND', 'PUERTO RICO', 'QATAR', 'ROMANIA', 'RUSSIAN FEDERATION', 'RWANDA', 'SAMOA', 'SAN MARINO', 'SAO TOME AND PRINCIPE', 'SAUDI ARABIA', 'SENEGAL', 'SERBIA', 'SEYCHELLES', 'SIERRA LEONE', 'SINGAPORE', 'SINT MAARTEN (DUTCH PART)', 'SLOVAK REPUBLIC', 'SLOVENIA', 'SMALL STATES', 'SOLOMON ISLANDS', 'SOMALIA', 'SOUTH AFRICA', 'SOUTH ASIA', 'SOUTH ASIA (IDA & IBRD)', 'SOUTH SUDAN', 'SPAIN', 'SRI LANKA', 'ST. KITTS AND NEVIS', 'ST. LUCIA', 'ST. MARTIN (FRENCH PART)', 'ST. VINCENT AND THE GRENADINES', 'SUB-SAHARAN AFRICA', 'SUB-SAHARAN AFRICA (EXCLUDING HIGH INCOME)', 'SUB-SAHARAN AFRICA (IDA & IBRD COUNTRIES)', 'SUDAN', 'SURINAME', 'SWEDEN', 'SWITZERLAND', 'SYRIAN ARAB REPUBLIC', 'TAJIKISTAN', 'TANZANIA', 'THAILAND', 'TIMOR-LESTE', 'TOGO', 'TONGA', 'TRINIDAD AND TOBAGO', 'TUNISIA', 'TURKIYE', 'TURKMENISTAN', 'TURKS AND CAICOS ISLANDS', 'TUVALU', 'UGANDA', 'UKRAINE', 'UNITED ARAB EMIRATES', 'UNITED KINGDOM', 'UNITED STATES', 'UPPER MIDDLE INCOME', 'URUGUAY', 'UZBEKISTAN', 'VANUATU', 'VENEZUELA, RB', 'VIETNAM', 'VIRGIN ISLANDS (U.S.)', 'WEST BANK AND GAZA', 'WORLD', 'YEMEN, REP.', 'ZAMBIA', 'ZIMBABWE']\n"
     ]
    }
   ],
   "source": [
    "# Write your own code here\n",
    "\n",
    "urban_pop = pd.read_csv(\"data/wdi_2020.csv\")\n",
    "\n",
    "fn_upper = lambda x: x.upper()\n",
    "\n",
    "urban_pop[\"countryname_upper\"] = urban_pop[\"countryname\"].apply(fn_upper)\n",
    "\n",
    "original = urban_pop['countryname'].tolist()\n",
    "new_upper = urban_pop['countryname_upper'].tolist()\n",
    "\n",
    "print(original)\n",
    "print(new_upper)\n"
   ]
  },
  {
   "attachments": {},
   "cell_type": "markdown",
   "metadata": {},
   "source": [
    "<font size = \"5\">\n",
    "\n",
    "(c) Extract sorted elements from a dataset\n",
    "\n",
    "<font size = \"3\">\n",
    "\n",
    "- Sort by \"prop_urbanpopulation\" in ascending order\n",
    "- Subset the 5 countries with the lowest urban population"
   ]
  },
  {
   "cell_type": "code",
   "execution_count": 26,
   "metadata": {},
   "outputs": [
    {
     "name": "stdout",
     "output_type": "stream",
     "text": [
      "     year yearcode       countryname countrycode  prop_urbanpopulation  \\\n",
      "191  2020   YR2020  Papua New Guinea         PNG                13.345   \n",
      "34   2020   YR2020           Burundi         BDI                13.708   \n",
      "141  2020   YR2020     Liechtenstein         LIE                14.416   \n",
      "177  2020   YR2020             Niger         NER                16.626   \n",
      "149  2020   YR2020            Malawi         MWI                17.427   \n",
      "\n",
      "    countryname_upper  \n",
      "191  PAPUA NEW GUINEA  \n",
      "34            BURUNDI  \n",
      "141     LIECHTENSTEIN  \n",
      "177             NIGER  \n",
      "149            MALAWI  \n"
     ]
    }
   ],
   "source": [
    "# Write your code here\n",
    "\n",
    "sorted_pop = urban_pop.sort_values(by = \"prop_urbanpopulation\", ascending = True)\n",
    "subset_lowest_pop = sorted_pop.iloc[:5]\n",
    "print(subset_lowest_pop)"
   ]
  },
  {
   "attachments": {},
   "cell_type": "markdown",
   "metadata": {},
   "source": [
    "<font size = \"5\">\n",
    "\n",
    "(d) Subset elements with query\n",
    "\n",
    "<font size = \"3\">\n",
    "\n",
    "- Compute the 25 quantile value of \"prop_urbanpopulation\"\n",
    "- Use \".query()\" to subset countries with <br>\n",
    " \"prop_urbanpopulation\" higher the 25 quantile\n",
    "\n",
    "**hint: Import ```numpy``` and use `np.nanpercentile`**"
   ]
  },
  {
   "cell_type": "code",
   "execution_count": 45,
   "metadata": {},
   "outputs": [
    {
     "name": "stdout",
     "output_type": "stream",
     "text": [
      "     year yearcode                 countryname countrycode  \\\n",
      "2    2020   YR2020  Africa Western and Central         AFW   \n",
      "3    2020   YR2020                     Albania         ALB   \n",
      "4    2020   YR2020                     Algeria         DZA   \n",
      "5    2020   YR2020              American Samoa         ASM   \n",
      "6    2020   YR2020                     Andorra         AND   \n",
      "..    ...      ...                         ...         ...   \n",
      "258  2020   YR2020               Venezuela, RB         VEN   \n",
      "260  2020   YR2020       Virgin Islands (U.S.)         VIR   \n",
      "261  2020   YR2020          West Bank and Gaza         PSE   \n",
      "262  2020   YR2020                       World         WLD   \n",
      "264  2020   YR2020                      Zambia         ZMB   \n",
      "\n",
      "     prop_urbanpopulation           countryname_upper  \n",
      "2               47.857831  AFRICA WESTERN AND CENTRAL  \n",
      "3               62.112000                     ALBANIA  \n",
      "4               73.733000                     ALGERIA  \n",
      "5               87.153000              AMERICAN SAMOA  \n",
      "6               87.916000                     ANDORRA  \n",
      "..                    ...                         ...  \n",
      "258             88.279000               VENEZUELA, RB  \n",
      "260             95.939000       VIRGIN ISLANDS (U.S.)  \n",
      "261             76.719000          WEST BANK AND GAZA  \n",
      "262             56.063764                       WORLD  \n",
      "264             44.629000                      ZAMBIA  \n",
      "\n",
      "[197 rows x 6 columns]\n"
     ]
    }
   ],
   "source": [
    "# Write your own code here\n",
    "\n",
    "import numpy as np\n",
    "\n",
    "percentile_25 = np.nanpercentile(urban_pop[\"prop_urbanpopulation\"], 25)\n",
    "\n",
    "subset_over_25 = urban_pop.query(\"prop_urbanpopulation > @percentile_25\")\n",
    "\n",
    "print(subset_over_25)"
   ]
  },
  {
   "attachments": {},
   "cell_type": "markdown",
   "metadata": {},
   "source": [
    "<font size = \"5\">\n",
    "\n",
    "(e) Plot by category\n",
    "\n",
    "<font size = \"3\">\n",
    "\n",
    "- Read \"data/wdi_urban.csv\"<br>\n",
    "This contains data from 1980 and 2020\n",
    "\n",
    "- Create a list with the unique values of \"year\"\n",
    "- Create a plot with a ...\n",
    "    - Histogram of \"prop_urbanpopulation\" <br>\n",
    "    for each year\n",
    "    - Set the histogram option ``` alpha = 0.5 ``` for transparency\n",
    "    - All the histograms should be overlapping\n",
    "    - Create a legend with the list of years\n",
    "    - Label the axes and the title\n",
    "\n",
    "What do we learn from the graph?\n",
    "\n",
    "HINT: See the example at the end of Lecture 10\n"
   ]
  },
  {
   "cell_type": "code",
   "execution_count": 46,
   "metadata": {},
   "outputs": [
    {
     "data": {
      "image/png": "[encoded data removed]",
      "text/plain": [
       "<Figure size 640x480 with 1 Axes>"
      ]
     },
     "metadata": {},
     "output_type": "display_data"
    },
    {
     "name": "stdout",
     "output_type": "stream",
     "text": [
      "From the graph, we learn that the proportion of urban population increased, on average, from 1980 to 2020. From this information, we can imply that there was a large migration of people moving to cities between 1980 and 2020, causing the distribution for 2020 to be right of the distribution for 1980.\n"
     ]
    }
   ],
   "source": [
    "# Write your own code here\n",
    "\n",
    "early_urban_pop = pd.read_csv(\"data/wdi_urban.csv\")\n",
    "\n",
    "list_unique_values = pd.unique(early_urban_pop[\"year\"])\n",
    "\n",
    "for category in list_unique_values:\n",
    "    df = early_urban_pop.query(\"year == @category\")\n",
    "    plt.hist(x = df[\"prop_urbanpopulation\"], alpha = 0.5)\n",
    "      \n",
    "plt.xlabel(\"Proportion of Urban Population\")\n",
    "plt.ylabel(\"Frequency\")\n",
    "plt.legend(labels = list_unique_values,\n",
    "           title  = \"Years\")\n",
    "plt.title(\"Distribution of Proportion of Urban Population 1980 vs. 2020\")\n",
    "\n",
    "plt.show()\n",
    "\n",
    "print(\"From the graph, we learn that the proportion of urban population increased, on average, from 1980 to 2020. From this information, we can imply that there was a large migration of people moving to cities between 1980 and 2020, causing the distribution for 2020 to be shifted right of the distribution for 1980.\")\n",
    "\n"
   ]
  }
 ],
 "metadata": {
  "kernelspec": {
   "display_name": "base",
   "language": "python",
   "name": "python3"
  },
  "language_info": {
   "codemirror_mode": {
    "name": "ipython",
    "version": 3
   },
   "file_extension": ".py",
   "mimetype": "text/x-python",
   "name": "python",
   "nbconvert_exporter": "python",
   "pygments_lexer": "ipython3",
   "version": "3.11.4"
  },
  "orig_nbformat": 4,
  "vscode": {
   "interpreter": {
    "hash": "45fc1f684f6f416f40889115beff3ddf69879b64cf4bfee48cb72a61e9d15d1a"
   }
  }
 },
 "nbformat": 4,
 "nbformat_minor": 2
}
